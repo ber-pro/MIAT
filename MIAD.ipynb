{
  "nbformat": 4,
  "nbformat_minor": 0,
  "metadata": {
    "colab": {
      "provenance": [],
      "authorship_tag": "ABX9TyONn2X/wgun7WilzLPk1xfB"
    },
    "kernelspec": {
      "name": "python3",
      "display_name": "Python 3"
    },
    "language_info": {
      "name": "python"
    }
  },
  "cells": [
    {
      "cell_type": "markdown",
      "source": [
        "##Git"
      ],
      "metadata": {
        "id": "i0Kq-k0uEIHB"
      }
    },
    {
      "cell_type": "code",
      "execution_count": 7,
      "metadata": {
        "colab": {
          "base_uri": "https://localhost:8080/"
        },
        "id": "_CzAfhxjBa6d",
        "outputId": "f27c27be-2980-4e0a-cfa3-d59aed3d318a"
      },
      "outputs": [
        {
          "output_type": "stream",
          "name": "stdout",
          "text": [
            "fatal: not a git repository (or any of the parent directories): .git\n"
          ]
        }
      ],
      "source": [
        "# !git clone https://github.com/ber-pro/MIAT.git\n",
        "!git pull"
      ]
    },
    {
      "cell_type": "markdown",
      "source": [
        "## Загрузка данных\n"
      ],
      "metadata": {
        "id": "jsoGHzMxERGa"
      }
    },
    {
      "cell_type": "code",
      "source": [],
      "metadata": {
        "id": "lK_I2Q-FEdUi"
      },
      "execution_count": 6,
      "outputs": []
    }
  ]
}