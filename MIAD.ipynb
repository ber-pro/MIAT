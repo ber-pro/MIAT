{
  "nbformat": 4,
  "nbformat_minor": 0,
  "metadata": {
    "colab": {
      "provenance": [],
      "authorship_tag": "ABX9TyO7ePnpbYryVhGCapKaCSWD",
      "include_colab_link": true
    },
    "kernelspec": {
      "name": "python3",
      "display_name": "Python 3"
    },
    "language_info": {
      "name": "python"
    }
  },
  "cells": [
    {
      "cell_type": "markdown",
      "metadata": {
        "id": "view-in-github",
        "colab_type": "text"
      },
      "source": [
        "<a href=\"https://colab.research.google.com/github/ber-pro/MIAT/blob/main/MIAD.ipynb\" target=\"_parent\"><img src=\"https://colab.research.google.com/assets/colab-badge.svg\" alt=\"Open In Colab\"/></a>"
      ]
    },
    {
      "cell_type": "markdown",
      "source": [
        "## Загрузка данных\n"
      ],
      "metadata": {
        "id": "jsoGHzMxERGa"
      }
    },
    {
      "cell_type": "code",
      "source": [
        "# !git clone https://github.com/ber-pro/MIAT.git"
      ],
      "metadata": {
        "colab": {
          "base_uri": "https://localhost:8080/"
        },
        "id": "Tnn2t8ajfzwf",
        "outputId": "b36b79d2-64bd-454f-f7c0-a504037321b1"
      },
      "execution_count": 5,
      "outputs": [
        {
          "output_type": "stream",
          "name": "stdout",
          "text": [
            "Cloning into 'MIAT'...\n",
            "remote: Enumerating objects: 9, done.\u001b[K\n",
            "remote: Counting objects: 100% (9/9), done.\u001b[K\n",
            "remote: Compressing objects: 100% (7/7), done.\u001b[K\n",
            "remote: Total 9 (delta 0), reused 0 (delta 0), pack-reused 0\u001b[K\n",
            "Receiving objects: 100% (9/9), 150.29 KiB | 1.15 MiB/s, done.\n"
          ]
        }
      ]
    },
    {
      "cell_type": "code",
      "source": [
        "import pandas as pd\n",
        "import numpy as np\n",
        "import matplotlib.pyplot as plt\n",
        "\n",
        "from google.colab import drive"
      ],
      "metadata": {
        "id": "lK_I2Q-FEdUi"
      },
      "execution_count": 12,
      "outputs": []
    },
    {
      "cell_type": "code",
      "source": [
        "from google.colab import auth\n",
        "auth.authenticate_user()\n",
        "\n",
        "import gspread\n",
        "from google.auth import default\n",
        "creds, _ = default()\n",
        "\n",
        "gc = gspread.authorize(creds)"
      ],
      "metadata": {
        "id": "aDuE4eojIbKW"
      },
      "execution_count": 2,
      "outputs": []
    },
    {
      "cell_type": "code",
      "source": [
        "df = pd.read_excel('/content/MIAT/EsseEthnetic - первичные данные.xlsx')"
      ],
      "metadata": {
        "id": "xmUQHbg5GM9p"
      },
      "execution_count": 6,
      "outputs": []
    },
    {
      "cell_type": "code",
      "source": [
        "df.info()"
      ],
      "metadata": {
        "colab": {
          "base_uri": "https://localhost:8080/"
        },
        "id": "3QuPXDbugqKB",
        "outputId": "3759af5c-8d02-4d38-c480-566a8a4b161f"
      },
      "execution_count": 10,
      "outputs": [
        {
          "output_type": "stream",
          "name": "stdout",
          "text": [
            "<class 'pandas.core.frame.DataFrame'>\n",
            "RangeIndex: 820 entries, 0 to 819\n",
            "Data columns (total 47 columns):\n",
            " #   Column                                          Non-Null Count  Dtype  \n",
            "---  ------                                          --------------  -----  \n",
            " 0   №                                               820 non-null    int64  \n",
            " 1   Этническая принадлежность                       820 non-null    int64  \n",
            " 2   возраст                                         820 non-null    int64  \n",
            " 3   возрастная группа                               820 non-null    int64  \n",
            " 4   пол                                             820 non-null    int64  \n",
            " 5   курение                                         820 non-null    int64  \n",
            " 6   рост                                            820 non-null    float64\n",
            " 7   вес                                             820 non-null    float64\n",
            " 8   ИМТ                                             820 non-null    float64\n",
            " 9   объем талии                                     820 non-null    float64\n",
            " 10  Ожирение                                        820 non-null    int64  \n",
            " 11  систоличепская артериальная гипертензия         820 non-null    int64  \n",
            " 12  степень систолической артериальной гипертензии  820 non-null    int64  \n",
            " 13  САД                                             820 non-null    int64  \n",
            " 14  диастолическая артериальная гипертензия         820 non-null    int64  \n",
            " 15  ДАД                                             820 non-null    int64  \n",
            " 16  ЧСС                                             820 non-null    int64  \n",
            " 17  ГХС                                             820 non-null    int64  \n",
            " 18  ОХС                                             820 non-null    float64\n",
            " 19  ЛПНП                                            820 non-null    float64\n",
            " 20  Гипоальфахолестеринемия                         820 non-null    int64  \n",
            " 21  ЛПВП                                            820 non-null    float64\n",
            " 22  ХС не-ЛПВП                                      820 non-null    float64\n",
            " 23  гипертриглицеридемия                            820 non-null    int64  \n",
            " 24  ТГ                                              820 non-null    float64\n",
            " 25  ГиперЛП(а)                                      820 non-null    int64  \n",
            " 26  ЛП(а)                                           820 non-null    float64\n",
            " 27  апоА                                            820 non-null    float64\n",
            " 28  апоВ                                            820 non-null    float64\n",
            " 29  глюкоза                                         820 non-null    float64\n",
            " 30  креатинин                                       820 non-null    float64\n",
            " 31  СКФ                                             820 non-null    float64\n",
            " 32  Гиперурикемия                                   820 non-null    int64  \n",
            " 33  мочевая кислота                                 820 non-null    float64\n",
            " 34  CRP                                             819 non-null    float64\n",
            " 35  SCORE                                           423 non-null    float64\n",
            " 36  категория риска по SCORE                        427 non-null    float64\n",
            " 37  SCORE2                                          428 non-null    float64\n",
            " 38  категория риска по SCORE2                       428 non-null    float64\n",
            " 39  наличие УЗ диагностики                          820 non-null    int64  \n",
            " 40  наличие атеросклероза                           136 non-null    float64\n",
            " 41  количество АСБ                                  136 non-null    float64\n",
            " 42  суммарный процент стеноза АСБ                   136 non-null    float64\n",
            " 43  средний стеноз                                  136 non-null    float64\n",
            " 44  ДДЛЖ                                            136 non-null    float64\n",
            " 45  Наличие STRAIN                                  135 non-null    float64\n",
            " 46  глобал сокр                                     90 non-null     float64\n",
            "dtypes: float64(28), int64(19)\n",
            "memory usage: 301.2 KB\n"
          ]
        }
      ]
    },
    {
      "cell_type": "markdown",
      "source": [
        "## Постановка задачи\n"
      ],
      "metadata": {
        "id": "FzH_z_Y4hQ19"
      }
    },
    {
      "cell_type": "markdown",
      "source": [
        "1. Прогнозирование попадания человека в группу риска сердечно-сосудистыми заболеваниями на основе амбулаторных анализов.\n",
        "2. Определение возрастной группы на основе амбулаторных анализов.\n",
        "3. Прогнозирования уровня глюкозы в крови.\n",
        "4. Определение наличия или отсутствие гиперурикемии\n",
        "\n"
      ],
      "metadata": {
        "id": "p2Ro8RkOoYGA"
      }
    },
    {
      "cell_type": "markdown",
      "source": [
        "##Прогнозирования уровня глюкозы в крови.\n",
        "\n",
        "### Актуальность\n",
        "> Диабет - одно из наиболее распространенных и серьезных хронических заболеваний в мире. Высокий уровень глюкозы в крови может привести к серьезным осложнениям, таким как сердечно-сосудистые заболевания, повреждение почек, слепота и другие. Прогнозирование уровня глюкозы имеет важное значение для эффективного управления диабетом и предотвращения осложнений.\n"
      ],
      "metadata": {
        "id": "X44UoT6IuWzb"
      }
    },
    {
      "cell_type": "code",
      "source": [
        "years = [f\"{i}\" for i in range(2016, 2021)]\n",
        "penguin_means = {\n",
        "    'Число заболевших (тыс. человек в год)': [339.4, 363.5, 369.5, 410.5, 321.8] ,\n",
        "    'Число смертей (тыс. человек в год)': [31.5, 37.0, 40.3, 41.2, 51.8],\n",
        "}\n",
        "\n",
        "x = np.arange(len(years))  # the label locations\n",
        "width = 0.35 # the width of the bars\n",
        "multiplier = 0.5\n",
        "\n",
        "fig, ax = plt.subplots(layout='constrained')\n",
        "\n",
        "for attribute, measurement in penguin_means.items():\n",
        "    offset = width * multiplier\n",
        "    rects = ax.bar(x + offset, measurement, width, label=attribute)\n",
        "    ax.bar_label(rects)\n",
        "\n",
        "    multiplier += 1\n",
        "\n",
        "# Add some text for labels, title and custom x-axis tick labels, etc.\n",
        "ax.set_ylabel('тыс. человек')\n",
        "ax.set_title('Диаграмма распространения сахарного диабета')\n",
        "ax.set_xticks(x + width, years)\n",
        "ax.legend()\n",
        "ax.set_ylim(0, 500)\n",
        "\n",
        "plt.show()"
      ],
      "metadata": {
        "colab": {
          "base_uri": "https://localhost:8080/",
          "height": 508
        },
        "id": "bkiZX76agqyB",
        "outputId": "1829bd80-68b3-4e71-b0cd-729034045362"
      },
      "execution_count": 40,
      "outputs": [
        {
          "output_type": "display_data",
          "data": {
            "text/plain": [
              "<Figure size 640x480 with 1 Axes>"
            ],
            "image/png": "[encoded data removed]"
          },
          "metadata": {}
        }
      ]
    },
    {
      "cell_type": "markdown",
      "source": [
        "> Количество больных диабетом в России на сегодняшний день составляет около 10,5 млн человек, по данным Минздрава. То есть от этого заболевания страдает каждый 15-й россиян. По официальной статистике, в 2021 году число диабетиков в РФ составляло 5,2 млн.\n",
        "\n",
        "> Предсказание уровня глюкозы может помочь диабетикам более точно контролировать свой уровень сахара и, следовательно, уменьшить риск возникновения осложнений. Это может повысить качество и продолжительность жизни пациентов.\n"
      ],
      "metadata": {
        "id": "Nqo_91p_-a9B"
      }
    },
    {
      "cell_type": "markdown",
      "source": [
        "Прогнозирования уровня глюкозы в крови относится к задачам **регрессионного** анализа"
      ],
      "metadata": {
        "id": "VsoTHDAMBIN3"
      }
    },
    {
      "cell_type": "markdown",
      "source": [
        "##**!!!! TODO: Анализ признаков**"
      ],
      "metadata": {
        "id": "Jue-Hv8BB2NF"
      }
    },
    {
      "cell_type": "code",
      "source": [],
      "metadata": {
        "id": "wPKd7uDfB8zS"
      },
      "execution_count": null,
      "outputs": []
    }
  ]
}